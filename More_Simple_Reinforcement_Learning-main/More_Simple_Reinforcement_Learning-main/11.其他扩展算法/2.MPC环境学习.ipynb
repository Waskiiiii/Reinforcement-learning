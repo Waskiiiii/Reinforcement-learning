{
 "cells": [
  {
   "cell_type": "markdown",
   "id": "cb1a3cd7",
   "metadata": {},
   "source": [
    "直接学习游戏环境"
   ]
  },
  {
   "cell_type": "code",
   "execution_count": 1,
   "id": "4a033743",
   "metadata": {},
   "outputs": [
    {
     "data": {
      "image/png": "[encoded data removed]",
      "text/plain": [
       "<Figure size 300x300 with 1 Axes>"
      ]
     },
     "metadata": {},
     "output_type": "display_data"
    }
   ],
   "source": [
    "import gym\n",
    "\n",
    "\n",
    "#定义环境\n",
    "class MyWrapper(gym.Wrapper):\n",
    "\n",
    "    def __init__(self):\n",
    "        env = gym.make('Pendulum-v1', render_mode='rgb_array')\n",
    "        super().__init__(env)\n",
    "        self.env = env\n",
    "        self.step_n = 0\n",
    "\n",
    "    def reset(self):\n",
    "        state, _ = self.env.reset()\n",
    "        self.step_n = 0\n",
    "        return state\n",
    "\n",
    "    def step(self, action):\n",
    "        state, reward, terminated, truncated, info = self.env.step(\n",
    "            [action * 2])\n",
    "        over = terminated or truncated\n",
    "\n",
    "        #偏移reward,便于训练\n",
    "        reward = (reward + 8) / 8\n",
    "\n",
    "        #限制最大步数\n",
    "        self.step_n += 1\n",
    "        if self.step_n >= 200:\n",
    "            over = True\n",
    "\n",
    "        return state, reward, over\n",
    "\n",
    "    #打印游戏图像\n",
    "    def show(self):\n",
    "        from matplotlib import pyplot as plt\n",
    "        plt.figure(figsize=(3, 3))\n",
    "        plt.imshow(self.env.render())\n",
    "        plt.show()\n",
    "\n",
    "\n",
    "env = MyWrapper()\n",
    "\n",
    "env.reset()\n",
    "\n",
    "env.show()"
   ]
  },
  {
   "cell_type": "code",
   "execution_count": 2,
   "id": "e64c315e",
   "metadata": {},
   "outputs": [
    {
     "data": {
      "text/plain": [
       "(tensor([[ 0.0763,  0.0989, -0.1105],\n",
       "         [ 0.0565,  0.0827, -0.1343],\n",
       "         [ 0.0818,  0.1618, -0.1522],\n",
       "         [ 0.1293,  0.1526, -0.1936],\n",
       "         [ 0.1190,  0.1070, -0.1644]], grad_fn=<AddBackward0>),\n",
       " tensor([[-0.0517],\n",
       "         [-0.0228],\n",
       "         [-0.0824],\n",
       "         [ 0.0954],\n",
       "         [ 0.0202]], grad_fn=<TanhBackward0>))"
      ]
     },
     "execution_count": 2,
     "metadata": {},
     "output_type": "execute_result"
    }
   ],
   "source": [
    "import torch\n",
    "\n",
    "\n",
    "class FakeEnv(torch.nn.Module):\n",
    "\n",
    "    def __init__(self):\n",
    "        super().__init__()\n",
    "        self.s = torch.nn.Sequential(\n",
    "            torch.nn.Linear(4, 64),\n",
    "            torch.nn.ReLU(),\n",
    "            torch.nn.Linear(64, 64),\n",
    "            torch.nn.ReLU(),\n",
    "            torch.nn.Linear(64, 64),\n",
    "            torch.nn.ReLU(),\n",
    "        )\n",
    "\n",
    "        self.next_state = torch.nn.Linear(64, 3)\n",
    "        self.reward = torch.nn.Sequential(\n",
    "            torch.nn.Linear(64, 1),\n",
    "            torch.nn.Tanh(),\n",
    "        )\n",
    "\n",
    "    def forward(self, state, action):\n",
    "        state = self.s(torch.cat([state, action], dim=1))\n",
    "        return self.next_state(state) + state[:, :3], self.reward(state)\n",
    "\n",
    "\n",
    "fake_env = FakeEnv()\n",
    "\n",
    "fake_env(torch.randn(5, 3), torch.randn(5, 1))"
   ]
  },
  {
   "cell_type": "code",
   "execution_count": 3,
   "id": "fd93d2f2",
   "metadata": {},
   "outputs": [
    {
     "data": {
      "text/plain": [
       "0.8862467149389309"
      ]
     },
     "execution_count": 3,
     "metadata": {},
     "output_type": "execute_result"
    }
   ],
   "source": [
    "import random\n",
    "\n",
    "\n",
    "#环境学习阶段使用随机动作即可\n",
    "def get_action(state):\n",
    "    return random.normalvariate(mu=0, sigma=1)\n",
    "\n",
    "\n",
    "get_action(None)"
   ]
  },
  {
   "cell_type": "code",
   "execution_count": 4,
   "id": "eeeab6f0",
   "metadata": {},
   "outputs": [
    {
     "data": {
      "text/plain": [
       "-17.940597483586142"
      ]
     },
     "execution_count": 4,
     "metadata": {},
     "output_type": "execute_result"
    }
   ],
   "source": [
    "from IPython import display\n",
    "\n",
    "\n",
    "#玩一局游戏并记录数据\n",
    "def play(show=False):\n",
    "    data = []\n",
    "    reward_sum = 0\n",
    "\n",
    "    state = env.reset()\n",
    "    over = False\n",
    "    while not over:\n",
    "        action = get_action(state)\n",
    "\n",
    "        next_state, reward, over = env.step(action)\n",
    "\n",
    "        data.append((state, action, reward, next_state, over))\n",
    "        reward_sum += reward\n",
    "\n",
    "        state = next_state\n",
    "\n",
    "        if show:\n",
    "            display.clear_output(wait=True)\n",
    "            env.show()\n",
    "\n",
    "    return data, reward_sum\n",
    "\n",
    "\n",
    "play()[-1]"
   ]
  },
  {
   "cell_type": "code",
   "execution_count": 5,
   "id": "9c383bd4",
   "metadata": {},
   "outputs": [
    {
     "name": "stderr",
     "output_type": "stream",
     "text": [
      "/tmp/ipykernel_30896/741254263.py:27: UserWarning: Creating a tensor from a list of numpy.ndarrays is extremely slow. Please consider converting the list to a single numpy.ndarray with numpy.array() before converting to a tensor. (Triggered internally at  ../torch/csrc/utils/tensor_new.cpp:201.)\n",
      "  state = torch.FloatTensor([i[0] for i in data]).reshape(-1, 3)\n"
     ]
    },
    {
     "data": {
      "text/plain": [
       "(200,\n",
       " (array([-0.9725334 ,  0.23276345,  0.6766915 ], dtype=float32),\n",
       "  -1.0031992633485094,\n",
       "  -0.06231842345025762,\n",
       "  array([-0.97857887,  0.2058723 ,  0.55126405], dtype=float32),\n",
       "  False))"
      ]
     },
     "execution_count": 5,
     "metadata": {},
     "output_type": "execute_result"
    }
   ],
   "source": [
    "#数据池\n",
    "class Pool:\n",
    "\n",
    "    def __init__(self):\n",
    "        self.pool = []\n",
    "\n",
    "    def __len__(self):\n",
    "        return len(self.pool)\n",
    "\n",
    "    def __getitem__(self, i):\n",
    "        return self.pool[i]\n",
    "\n",
    "    #更新动作池\n",
    "    def update(self):\n",
    "        #每次更新不少于N条新数据\n",
    "        old_len = len(self.pool)\n",
    "        while len(pool) - old_len < 200:\n",
    "            self.pool.extend(play()[0])\n",
    "\n",
    "        #只保留最新的N条数据\n",
    "        self.pool = self.pool[-2_0000:]\n",
    "\n",
    "    #获取一批数据样本\n",
    "    def sample(self):\n",
    "        data = random.sample(self.pool, 64)\n",
    "\n",
    "        state = torch.FloatTensor([i[0] for i in data]).reshape(-1, 3)\n",
    "        action = torch.FloatTensor([i[1] for i in data]).reshape(-1, 1)\n",
    "        reward = torch.FloatTensor([i[2] for i in data]).reshape(-1, 1)\n",
    "        next_state = torch.FloatTensor([i[3] for i in data]).reshape(-1, 3)\n",
    "        over = torch.LongTensor([i[4] for i in data]).reshape(-1, 1)\n",
    "\n",
    "        return state, action, reward, next_state, over\n",
    "\n",
    "\n",
    "pool = Pool()\n",
    "pool.update()\n",
    "pool.sample()\n",
    "\n",
    "len(pool), pool[0]"
   ]
  },
  {
   "cell_type": "code",
   "execution_count": 6,
   "id": "b748ed1d",
   "metadata": {},
   "outputs": [
    {
     "name": "stdout",
     "output_type": "stream",
     "text": [
      "0 400 0.002726170001551509 0.0034544081427156925 10.500285682848135\n",
      "20 4400 0.0005868636653758585 0.00016088939446490258 75.48046000174062\n",
      "40 8400 0.00025014541461132467 0.00010767048661364242 40.06568712378257\n",
      "60 12400 0.0006259015644900501 0.00010308342461939901 65.8760412209607\n",
      "80 16400 9.059047442860901e-05 5.647194120683707e-05 92.80258071329621\n",
      "100 20000 0.00010283117444487289 8.087384048849344e-05 31.64233141467606\n",
      "120 20000 0.0002828323340509087 6.70949521008879e-05 45.58520385601917\n",
      "140 20000 0.00020551285706460476 5.288568354444578e-05 82.84478483553508\n",
      "160 20000 0.0002938929828815162 0.00010266354365739971 65.76003958624305\n",
      "180 20000 7.851848931750283e-05 4.320243533584289e-05 56.1610114488039\n"
     ]
    }
   ],
   "source": [
    "#训练\n",
    "def train(epochs, test_epoch):\n",
    "    fake_env.train()\n",
    "    optimizer = torch.optim.Adam(fake_env.parameters(), lr=1e-3)\n",
    "    loss_fn = torch.nn.MSELoss()\n",
    "\n",
    "    #共更新N轮数据\n",
    "    for epoch in range(epochs):\n",
    "        pool.update()\n",
    "\n",
    "        #每次更新数据后,训练N次\n",
    "        for i in range(200):\n",
    "\n",
    "            #采样N条数据\n",
    "            state, action, reward, next_state, over = pool.sample()\n",
    "\n",
    "            #模型计算\n",
    "            p_next_state, p_reward = fake_env(state, action)\n",
    "\n",
    "            loss_next_state = loss_fn(p_next_state, next_state)\n",
    "            loss_reward = loss_fn(p_reward, reward)\n",
    "            (loss_next_state + loss_reward).backward()\n",
    "            optimizer.step()\n",
    "            optimizer.zero_grad()\n",
    "\n",
    "        if epoch % test_epoch == 0:\n",
    "            print(epoch, len(pool), loss_next_state.item(), loss_reward.item(),\n",
    "                  play()[-1])\n",
    "\n",
    "\n",
    "#环境学习阶段\n",
    "train(200, 20)"
   ]
  },
  {
   "cell_type": "code",
   "execution_count": 7,
   "id": "cf277041",
   "metadata": {
    "scrolled": false
   },
   "outputs": [
    {
     "data": {
      "text/plain": [
       "-1.2537051439285278"
      ]
     },
     "execution_count": 7,
     "metadata": {},
     "output_type": "execute_result"
    }
   ],
   "source": [
    "#使用虚拟环境获取最优动作\n",
    "def get_action(state):\n",
    "    #初始化N步动作的分布\n",
    "    mu = torch.zeros(1, 15)\n",
    "    sigma = torch.ones(1, 15)\n",
    "\n",
    "    state = torch.FloatTensor(state).reshape(1, -1).repeat(50, 1)\n",
    "    state_clone = state.clone()\n",
    "\n",
    "    #反复优化N次动作的分布\n",
    "    for _ in range(5):\n",
    "        #根据N步动作的分布抽样生成N份动作链\n",
    "        action = mu + torch.randn(50, 15) * sigma\n",
    "        reward_sum = torch.zeros(50, 1)\n",
    "        state = state_clone\n",
    "\n",
    "        #按顺序执行N步的动作,计算Q\n",
    "        for i in range(15):\n",
    "            state, reward = fake_env(state, action[:, i].unsqueeze(dim=1))\n",
    "            reward_sum += reward * 0.95**i\n",
    "\n",
    "        #求分数最高的N份动作链\n",
    "        sort = reward_sum.flatten().sort(descending=True).indices\n",
    "        action = action[sort][:10]\n",
    "\n",
    "        #修正动作链的分布\n",
    "        mu = 0.5 * mu + 0.5 * action.mean(dim=0, keepdim=True)\n",
    "        sigma = 0.5 * sigma + 0.5 * action.std(dim=0, keepdim=True)\n",
    "\n",
    "    #返回最优动作\n",
    "    return mu[0, 0].item()\n",
    "\n",
    "\n",
    "get_action(torch.randn(1, 3))"
   ]
  },
  {
   "cell_type": "code",
   "execution_count": 8,
   "id": "86153c62",
   "metadata": {},
   "outputs": [
    {
     "name": "stdout",
     "output_type": "stream",
     "text": [
      "0 20000 4.735264883493073e-05 6.272528116824105e-05 184.5788197796783\n",
      "1 20000 0.0001188941314467229 4.5524706365540624e-05 183.58295882971538\n",
      "2 20000 0.00011217351857339963 2.686530933715403e-05 168.53254854354407\n",
      "3 20000 5.298547330312431e-05 4.754511974169873e-05 184.28078113247653\n",
      "4 20000 7.20681346138008e-05 2.5564015231793746e-05 152.4564468631718\n",
      "5 20000 0.0002979194978252053 0.00015095982234925032 168.47206662447832\n",
      "6 20000 0.00015631772112101316 0.0002335681492695585 183.68430699254807\n",
      "7 20000 0.00020789820700883865 3.983889109804295e-05 183.3188395321095\n",
      "8 20000 7.334992551477626e-05 4.645865556085482e-05 159.81474878790993\n",
      "9 20000 4.5181670429883525e-05 2.8182716050650924e-05 169.60035595148403\n"
     ]
    }
   ],
   "source": [
    "#动作学习阶段\n",
    "train(10, 1)"
   ]
  },
  {
   "cell_type": "code",
   "execution_count": 9,
   "id": "9a9e2ad9",
   "metadata": {},
   "outputs": [
    {
     "data": {
      "image/png": "[encoded data removed]",
      "text/plain": [
       "<Figure size 300x300 with 1 Axes>"
      ]
     },
     "metadata": {},
     "output_type": "display_data"
    },
    {
     "data": {
      "text/plain": [
       "183.52116816080024"
      ]
     },
     "execution_count": 9,
     "metadata": {},
     "output_type": "execute_result"
    }
   ],
   "source": [
    "play(True)[-1]"
   ]
  }
 ],
 "metadata": {
  "kernelspec": {
   "display_name": "Python [conda env:pt39]",
   "language": "python",
   "name": "conda-env-pt39-py"
  },
  "language_info": {
   "codemirror_mode": {
    "name": "ipython",
    "version": 3
   },
   "file_extension": ".py",
   "mimetype": "text/x-python",
   "name": "python",
   "nbconvert_exporter": "python",
   "pygments_lexer": "ipython3",
   "version": "3.9.13"
  }
 },
 "nbformat": 4,
 "nbformat_minor": 5
}
