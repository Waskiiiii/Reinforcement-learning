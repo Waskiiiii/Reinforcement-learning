{
 "cells": [
  {
   "cell_type": "markdown",
   "id": "5aa9aaea",
   "metadata": {},
   "source": [
    "模拟数据集中的动作,就是传统的深度学习而已"
   ]
  },
  {
   "cell_type": "code",
   "execution_count": 1,
   "id": "29091de6",
   "metadata": {},
   "outputs": [
    {
     "data": {
      "text/plain": [
       "(20000, (tensor([ 0.4413,  0.8974, -0.7139]), tensor([-1.0650])))"
      ]
     },
     "execution_count": 1,
     "metadata": {},
     "output_type": "execute_result"
    }
   ],
   "source": [
    "import torch\n",
    "\n",
    "\n",
    "#封装数据集\n",
    "class Dataset(torch.utils.data.Dataset):\n",
    "\n",
    "    def __init__(self):\n",
    "        import numpy as np\n",
    "        data = np.loadtxt('连续动作.txt')\n",
    "        self.state = torch.FloatTensor(data[:, :3])\n",
    "        self.action = torch.FloatTensor(data[:, -1]).reshape(-1, 1)\n",
    "\n",
    "    def __len__(self):\n",
    "        return len(self.state)\n",
    "\n",
    "    def __getitem__(self, i):\n",
    "        return self.state[i], self.action[i]\n",
    "\n",
    "\n",
    "dataset = Dataset()\n",
    "\n",
    "len(dataset), dataset[0]"
   ]
  },
  {
   "cell_type": "code",
   "execution_count": 2,
   "id": "f78563c5",
   "metadata": {},
   "outputs": [
    {
     "data": {
      "text/plain": [
       "(2500,\n",
       " [tensor([[ 0.9726,  0.2323,  0.0481],\n",
       "          [ 0.9957,  0.0925,  1.3494],\n",
       "          [ 0.9849,  0.1728,  0.4492],\n",
       "          [ 0.9974,  0.0718, -1.6214],\n",
       "          [ 0.9719,  0.2356, -0.0301],\n",
       "          [ 0.9742,  0.2259, -0.2024],\n",
       "          [ 0.9607, -0.2774, -0.6714],\n",
       "          [ 0.9857,  0.1687,  0.4045]]),\n",
       "  tensor([[-0.8233],\n",
       "          [-0.8886],\n",
       "          [-0.6845],\n",
       "          [ 0.1982],\n",
       "          [-0.7237],\n",
       "          [-0.1562],\n",
       "          [ 1.0381],\n",
       "          [-0.5526]])])"
      ]
     },
     "execution_count": 2,
     "metadata": {},
     "output_type": "execute_result"
    }
   ],
   "source": [
    "#数据加载器\n",
    "loader = torch.utils.data.DataLoader(dataset=dataset,\n",
    "                                     batch_size=8,\n",
    "                                     shuffle=True,\n",
    "                                     drop_last=True)\n",
    "\n",
    "len(loader), next(iter(loader))"
   ]
  },
  {
   "cell_type": "code",
   "execution_count": 3,
   "id": "3ae67dc1",
   "metadata": {},
   "outputs": [
    {
     "data": {
      "text/plain": [
       "torch.Size([2, 1])"
      ]
     },
     "execution_count": 3,
     "metadata": {},
     "output_type": "execute_result"
    }
   ],
   "source": [
    "import torch\n",
    "\n",
    "model = torch.nn.Sequential(\n",
    "    torch.nn.Linear(3, 64),\n",
    "    torch.nn.ReLU(),\n",
    "    torch.nn.Linear(64, 64),\n",
    "    torch.nn.ReLU(),\n",
    "    torch.nn.Linear(64, 1),\n",
    "    torch.nn.Tanh(),\n",
    ")\n",
    "\n",
    "model(torch.randn(2, 3)).shape"
   ]
  },
  {
   "cell_type": "code",
   "execution_count": 4,
   "id": "fe6b3443",
   "metadata": {},
   "outputs": [
    {
     "name": "stdout",
     "output_type": "stream",
     "text": [
      "0 0.038115568459033966\n",
      "1 0.03741789981722832\n",
      "2 0.06291048228740692\n",
      "3 0.08614323288202286\n",
      "4 0.10068434476852417\n",
      "5 0.038076382130384445\n",
      "6 0.05754101648926735\n",
      "7 0.06762734055519104\n",
      "8 0.06364182382822037\n",
      "9 0.09015730768442154\n"
     ]
    }
   ],
   "source": [
    "#训练\n",
    "def train():\n",
    "    model.train()\n",
    "    optimizer = torch.optim.Adam(model.parameters(), lr=2e-4)\n",
    "    loss_fn = torch.nn.MSELoss()\n",
    "\n",
    "    for epoch in range(10):\n",
    "        for i, (state, action) in enumerate(loader):\n",
    "            out = model(state)\n",
    "\n",
    "            loss = loss_fn(out, action)\n",
    "            loss.backward()\n",
    "            optimizer.step()\n",
    "            optimizer.zero_grad()\n",
    "\n",
    "        if epoch % 1 == 0:\n",
    "            print(epoch, loss.item())\n",
    "\n",
    "\n",
    "train()"
   ]
  },
  {
   "cell_type": "code",
   "execution_count": 5,
   "id": "c81c0cdc",
   "metadata": {},
   "outputs": [
    {
     "data": {
      "image/png": "[encoded data removed]",
      "text/plain": [
       "<Figure size 300x300 with 1 Axes>"
      ]
     },
     "metadata": {},
     "output_type": "display_data"
    }
   ],
   "source": [
    "import gym\n",
    "\n",
    "\n",
    "#定义环境\n",
    "class MyWrapper(gym.Wrapper):\n",
    "\n",
    "    def __init__(self):\n",
    "        env = gym.make('Pendulum-v1', render_mode='rgb_array')\n",
    "        super().__init__(env)\n",
    "        self.env = env\n",
    "        self.step_n = 0\n",
    "\n",
    "    def reset(self):\n",
    "        state, _ = self.env.reset()\n",
    "        self.step_n = 0\n",
    "        return state\n",
    "\n",
    "    def step(self, action):\n",
    "        state, reward, terminated, truncated, info = self.env.step(\n",
    "            [action * 2])\n",
    "        over = terminated or truncated\n",
    "\n",
    "        #偏移reward,便于训练\n",
    "        reward = (reward + 8) / 8\n",
    "\n",
    "        #限制最大步数\n",
    "        self.step_n += 1\n",
    "        if self.step_n >= 200:\n",
    "            over = True\n",
    "\n",
    "        return state, reward, over\n",
    "\n",
    "    #打印游戏图像\n",
    "    def show(self):\n",
    "        from matplotlib import pyplot as plt\n",
    "        plt.figure(figsize=(3, 3))\n",
    "        plt.imshow(self.env.render())\n",
    "        plt.show()\n",
    "\n",
    "\n",
    "env = MyWrapper()\n",
    "\n",
    "env.reset()\n",
    "\n",
    "env.show()"
   ]
  },
  {
   "cell_type": "code",
   "execution_count": 6,
   "id": "15cda860",
   "metadata": {},
   "outputs": [
    {
     "data": {
      "text/plain": [
       "169.6805284130523"
      ]
     },
     "execution_count": 6,
     "metadata": {},
     "output_type": "execute_result"
    }
   ],
   "source": [
    "from IPython import display\n",
    "import random\n",
    "\n",
    "\n",
    "#玩一局游戏并记录数据\n",
    "def play(show=False):\n",
    "    reward_sum = 0\n",
    "\n",
    "    state = env.reset()\n",
    "    over = False\n",
    "    while not over:\n",
    "        action = model(torch.FloatTensor(state).reshape(1, 3)).item()\n",
    "\n",
    "        #给动作添加噪声,增加探索\n",
    "        action += random.normalvariate(mu=0, sigma=0.2)\n",
    "\n",
    "        state, reward, over = env.step(action)\n",
    "        reward_sum += reward\n",
    "\n",
    "        if show:\n",
    "            display.clear_output(wait=True)\n",
    "            env.show()\n",
    "\n",
    "    return reward_sum\n",
    "\n",
    "\n",
    "#测试\n",
    "sum([play() for _ in range(20)]) / 20"
   ]
  },
  {
   "cell_type": "code",
   "execution_count": 7,
   "id": "85cf24b8",
   "metadata": {},
   "outputs": [
    {
     "data": {
      "image/png": "[encoded data removed]",
      "text/plain": [
       "<Figure size 300x300 with 1 Axes>"
      ]
     },
     "metadata": {},
     "output_type": "display_data"
    },
    {
     "data": {
      "text/plain": [
       "167.49010349876326"
      ]
     },
     "execution_count": 7,
     "metadata": {},
     "output_type": "execute_result"
    }
   ],
   "source": [
    "play(True)"
   ]
  }
 ],
 "metadata": {
  "kernelspec": {
   "display_name": "Python [conda env:pt39]",
   "language": "python",
   "name": "conda-env-pt39-py"
  },
  "language_info": {
   "codemirror_mode": {
    "name": "ipython",
    "version": 3
   },
   "file_extension": ".py",
   "mimetype": "text/x-python",
   "name": "python",
   "nbconvert_exporter": "python",
   "pygments_lexer": "ipython3",
   "version": "3.9.13"
  }
 },
 "nbformat": 4,
 "nbformat_minor": 5
}
